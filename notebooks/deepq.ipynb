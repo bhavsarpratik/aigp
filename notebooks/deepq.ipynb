{
 "cells": [
  {
   "cell_type": "code",
   "execution_count": 96,
   "metadata": {},
   "outputs": [],
   "source": [
    "import random\n",
    "import itertools\n",
    "\n",
    "import torch\n",
    "import pandas as pd\n",
    "import numpy as np\n",
    "from sklearn.preprocessing import OneHotEncoder,MultiLabelBinarizer\n",
    "\n",
    "pd.set_option('display.max_rows', 500)"
   ]
  },
  {
   "cell_type": "code",
   "execution_count": 101,
   "metadata": {},
   "outputs": [
    {
     "data": {
      "text/html": [
       "<div>\n",
       "<style scoped>\n",
       "    .dataframe tbody tr th:only-of-type {\n",
       "        vertical-align: middle;\n",
       "    }\n",
       "\n",
       "    .dataframe tbody tr th {\n",
       "        vertical-align: top;\n",
       "    }\n",
       "\n",
       "    .dataframe thead th {\n",
       "        text-align: right;\n",
       "    }\n",
       "</style>\n",
       "<table border=\"1\" class=\"dataframe\">\n",
       "  <thead>\n",
       "    <tr style=\"text-align: right;\">\n",
       "      <th></th>\n",
       "      <th>Source</th>\n",
       "      <th>Target</th>\n",
       "      <th>Weight</th>\n",
       "    </tr>\n",
       "  </thead>\n",
       "  <tbody>\n",
       "    <tr>\n",
       "      <th>0</th>\n",
       "      <td>influenza</td>\n",
       "      <td>uncoordination</td>\n",
       "      <td>68</td>\n",
       "    </tr>\n",
       "    <tr>\n",
       "      <th>1</th>\n",
       "      <td>influenza</td>\n",
       "      <td>fever</td>\n",
       "      <td>68</td>\n",
       "    </tr>\n",
       "    <tr>\n",
       "      <th>2</th>\n",
       "      <td>influenza</td>\n",
       "      <td>pleuritic pain</td>\n",
       "      <td>68</td>\n",
       "    </tr>\n",
       "    <tr>\n",
       "      <th>3</th>\n",
       "      <td>influenza</td>\n",
       "      <td>snuffle</td>\n",
       "      <td>68</td>\n",
       "    </tr>\n",
       "    <tr>\n",
       "      <th>4</th>\n",
       "      <td>influenza</td>\n",
       "      <td>throat sore</td>\n",
       "      <td>68</td>\n",
       "    </tr>\n",
       "  </tbody>\n",
       "</table>\n",
       "</div>"
      ],
      "text/plain": [
       "      Source          Target  Weight\n",
       "0  influenza  uncoordination      68\n",
       "1  influenza           fever      68\n",
       "2  influenza  pleuritic pain      68\n",
       "3  influenza         snuffle      68\n",
       "4  influenza     throat sore      68"
      ]
     },
     "execution_count": 101,
     "metadata": {},
     "output_type": "execute_result"
    }
   ],
   "source": [
    "df = pd.read_csv('../data/dataset_clean.csv')\n",
    "df.head()"
   ]
  },
  {
   "cell_type": "code",
   "execution_count": 102,
   "metadata": {},
   "outputs": [
    {
     "data": {
      "text/plain": [
       "Source    0\n",
       "Target    3\n",
       "Weight    0\n",
       "dtype: int64"
      ]
     },
     "execution_count": 102,
     "metadata": {},
     "output_type": "execute_result"
    }
   ],
   "source": [
    "df.isna().sum()"
   ]
  },
  {
   "cell_type": "code",
   "execution_count": 103,
   "metadata": {},
   "outputs": [
    {
     "data": {
      "text/html": [
       "<div>\n",
       "<style scoped>\n",
       "    .dataframe tbody tr th:only-of-type {\n",
       "        vertical-align: middle;\n",
       "    }\n",
       "\n",
       "    .dataframe tbody tr th {\n",
       "        vertical-align: top;\n",
       "    }\n",
       "\n",
       "    .dataframe thead th {\n",
       "        text-align: right;\n",
       "    }\n",
       "</style>\n",
       "<table border=\"1\" class=\"dataframe\">\n",
       "  <thead>\n",
       "    <tr style=\"text-align: right;\">\n",
       "      <th></th>\n",
       "      <th>Source</th>\n",
       "      <th>Target</th>\n",
       "      <th>Weight</th>\n",
       "    </tr>\n",
       "  </thead>\n",
       "  <tbody>\n",
       "    <tr>\n",
       "      <th>932</th>\n",
       "      <td>acquired immuno-deficiency syndrome</td>\n",
       "      <td>NaN</td>\n",
       "      <td>350</td>\n",
       "    </tr>\n",
       "    <tr>\n",
       "      <th>1861</th>\n",
       "      <td>hiv infections</td>\n",
       "      <td>NaN</td>\n",
       "      <td>350</td>\n",
       "    </tr>\n",
       "    <tr>\n",
       "      <th>1885</th>\n",
       "      <td>HIV</td>\n",
       "      <td>NaN</td>\n",
       "      <td>350</td>\n",
       "    </tr>\n",
       "  </tbody>\n",
       "</table>\n",
       "</div>"
      ],
      "text/plain": [
       "                                   Source Target  Weight\n",
       "932   acquired immuno-deficiency syndrome    NaN     350\n",
       "1861                       hiv infections    NaN     350\n",
       "1885                                  HIV    NaN     350"
      ]
     },
     "execution_count": 103,
     "metadata": {},
     "output_type": "execute_result"
    }
   ],
   "source": [
    "df[df.Target.isna()]"
   ]
  },
  {
   "cell_type": "code",
   "execution_count": 104,
   "metadata": {},
   "outputs": [],
   "source": [
    "df.dropna(inplace=True)\n",
    "df.drop(['Weight'], axis=1, inplace=True)"
   ]
  },
  {
   "cell_type": "code",
   "execution_count": 106,
   "metadata": {},
   "outputs": [
    {
     "data": {
      "text/plain": [
       "148"
      ]
     },
     "execution_count": 106,
     "metadata": {},
     "output_type": "execute_result"
    }
   ],
   "source": [
    "df.Source.nunique()"
   ]
  },
  {
   "cell_type": "code",
   "execution_count": 107,
   "metadata": {},
   "outputs": [
    {
     "data": {
      "text/plain": [
       "404"
      ]
     },
     "execution_count": 107,
     "metadata": {},
     "output_type": "execute_result"
    }
   ],
   "source": [
    "df.Target.nunique()"
   ]
  },
  {
   "cell_type": "code",
   "execution_count": 79,
   "metadata": {},
   "outputs": [],
   "source": [
    "a = OneHotEncoder().fit(df.Target.values.reshape(-1, 1))"
   ]
  },
  {
   "cell_type": "code",
   "execution_count": 80,
   "metadata": {},
   "outputs": [
    {
     "data": {
      "text/plain": [
       "\"Heberden's node\""
      ]
     },
     "execution_count": 80,
     "metadata": {},
     "output_type": "execute_result"
    }
   ],
   "source": [
    "a.categories_[0][0]"
   ]
  },
  {
   "cell_type": "code",
   "execution_count": 82,
   "metadata": {},
   "outputs": [
    {
     "name": "stdout",
     "output_type": "stream",
     "text": [
      "  (0, 381)\t1.0\n"
     ]
    }
   ],
   "source": [
    "print(a.transform([['uncoordination']]))"
   ]
  },
  {
   "cell_type": "code",
   "execution_count": 83,
   "metadata": {},
   "outputs": [
    {
     "data": {
      "text/plain": [
       "array([0, 1, 2], dtype=uint8)"
      ]
     },
     "execution_count": 83,
     "metadata": {},
     "output_type": "execute_result"
    }
   ],
   "source": [
    "a = np.array([0,1,2], dtype=np.uint8)\n",
    "a"
   ]
  },
  {
   "cell_type": "code",
   "execution_count": 84,
   "metadata": {},
   "outputs": [
    {
     "data": {
      "text/html": [
       "<div>\n",
       "<style scoped>\n",
       "    .dataframe tbody tr th:only-of-type {\n",
       "        vertical-align: middle;\n",
       "    }\n",
       "\n",
       "    .dataframe tbody tr th {\n",
       "        vertical-align: top;\n",
       "    }\n",
       "\n",
       "    .dataframe thead th {\n",
       "        text-align: right;\n",
       "    }\n",
       "</style>\n",
       "<table border=\"1\" class=\"dataframe\">\n",
       "  <thead>\n",
       "    <tr style=\"text-align: right;\">\n",
       "      <th></th>\n",
       "      <th>Source</th>\n",
       "      <th>Target</th>\n",
       "    </tr>\n",
       "  </thead>\n",
       "  <tbody>\n",
       "    <tr>\n",
       "      <th>0</th>\n",
       "      <td>Alzheimer's disease</td>\n",
       "      <td>[drool, agitation, nightmare, rhonchus, consci...</td>\n",
       "    </tr>\n",
       "    <tr>\n",
       "      <th>1</th>\n",
       "      <td>HIV</td>\n",
       "      <td>[fever, night sweat, spontaneous rupture of me...</td>\n",
       "    </tr>\n",
       "    <tr>\n",
       "      <th>2</th>\n",
       "      <td>Pneumocystis carinii pneumonia</td>\n",
       "      <td>[yellow sputum, cachexia, chill, decreased bod...</td>\n",
       "    </tr>\n",
       "    <tr>\n",
       "      <th>3</th>\n",
       "      <td>accident cerebrovascular</td>\n",
       "      <td>[dysarthria, asthenia, speech slurred, facial ...</td>\n",
       "    </tr>\n",
       "    <tr>\n",
       "      <th>4</th>\n",
       "      <td>acquired immuno-deficiency syndrome</td>\n",
       "      <td>[fever, night sweat, spontaneous rupture of me...</td>\n",
       "    </tr>\n",
       "  </tbody>\n",
       "</table>\n",
       "</div>"
      ],
      "text/plain": [
       "                                Source  \\\n",
       "0                  Alzheimer's disease   \n",
       "1                                  HIV   \n",
       "2       Pneumocystis carinii pneumonia   \n",
       "3             accident cerebrovascular   \n",
       "4  acquired immuno-deficiency syndrome   \n",
       "\n",
       "                                              Target  \n",
       "0  [drool, agitation, nightmare, rhonchus, consci...  \n",
       "1  [fever, night sweat, spontaneous rupture of me...  \n",
       "2  [yellow sputum, cachexia, chill, decreased bod...  \n",
       "3  [dysarthria, asthenia, speech slurred, facial ...  \n",
       "4  [fever, night sweat, spontaneous rupture of me...  "
      ]
     },
     "execution_count": 84,
     "metadata": {},
     "output_type": "execute_result"
    }
   ],
   "source": [
    "df = df.groupby('Source')['Target'].apply(list).reset_index()\n",
    "df.head()"
   ]
  },
  {
   "cell_type": "code",
   "execution_count": 85,
   "metadata": {},
   "outputs": [
    {
     "data": {
      "text/plain": [
       "['fever',\n",
       " 'night sweat',\n",
       " 'spontaneous rupture of membranes',\n",
       " 'cough',\n",
       " 'decreased body weight',\n",
       " 'chill',\n",
       " 'diarrhea',\n",
       " 'pleuritic pain',\n",
       " 'patient non compliance',\n",
       " 'tachypnea',\n",
       " 'productive cough',\n",
       " 'muscle hypotonia',\n",
       " 'hypotonic',\n",
       " 'feeling suicidal']"
      ]
     },
     "execution_count": 85,
     "metadata": {},
     "output_type": "execute_result"
    }
   ],
   "source": [
    "dis_sym = {k:v for k,v in df[['Source', 'Target']].values}\n",
    "dis_sym['HIV']"
   ]
  },
  {
   "cell_type": "code",
   "execution_count": 86,
   "metadata": {},
   "outputs": [],
   "source": [
    "class env:\n",
    "    def __init__(self, dis_sym):\n",
    "        self.dis_sym = dis_sym\n",
    "        self.diseases = list(dis_sym.keys())\n",
    "        symptoms = [v for k,v in dis_sym.items()]\n",
    "        self.symptoms = list(set(itertools.chain.from_iterable(symptoms)))\n",
    "        self.curr_disease = None\n",
    "        self.curr_disease_symptoms = None\n",
    "        self.curr_disease_symptoms_asked = None\n",
    "        self.dis_sym_enc = OneHotEncoder().fit(np.array(self.diseases + self.symptoms).reshape(-1,1))\n",
    "        self.sym_enc = MultiLabelBinarizer().fit(np.array(self.symptoms).reshape(-1, 1))\n",
    "        \n",
    "    def reset():\n",
    "        self.curr_disease = random.choice(diseases)\n",
    "        self.curr_disease_symptoms = self.dis_sym[self.curr_disease]\n",
    "        first_symptom = random.choice(self.curr_disease_symptoms)\n",
    "        self.curr_disease_symptoms_asked.append(first_symptom)\n",
    "        return self.curr_disease_symptoms_asked\n",
    "    \n",
    "    def step(action):\n",
    "        action = self.dis_sym_enc.inverse_transform(action)\n",
    "        if action == self.curr_disease:\n",
    "            done = True\n",
    "            reward = 44\n",
    "            observation_ = self.curr_disease_symptoms_asked\n",
    "        elif action in self.diseases:\n",
    "            done = True\n",
    "            reward = -22\n",
    "            observation_ = self.curr_disease_symptoms_asked\n",
    "        elif action in self.curr_disease_symptoms:\n",
    "            done = False\n",
    "            reward = -1\n",
    "            self.curr_disease_symptoms_asked.append(action)\n",
    "            observation_ = self.curr_disease_symptoms_asked\n",
    "        else:\n",
    "            done = False\n",
    "            reward = -1\n",
    "            observation_ = self.curr_disease_symptoms_asked\n",
    "            \n",
    "        observation_ = self.sym_enc.transform([self.curr_disease_symptoms_asked])\n",
    "        info = ''\n",
    "            \n",
    "        return observation_, reward, done, info"
   ]
  },
  {
   "cell_type": "code",
   "execution_count": null,
   "metadata": {},
   "outputs": [],
   "source": []
  },
  {
   "cell_type": "code",
   "execution_count": null,
   "metadata": {},
   "outputs": [],
   "source": []
  },
  {
   "cell_type": "code",
   "execution_count": null,
   "metadata": {},
   "outputs": [],
   "source": []
  },
  {
   "cell_type": "code",
   "execution_count": null,
   "metadata": {},
   "outputs": [],
   "source": []
  },
  {
   "cell_type": "code",
   "execution_count": null,
   "metadata": {},
   "outputs": [],
   "source": []
  }
 ],
 "metadata": {
  "kernelspec": {
   "display_name": "Python 3",
   "language": "python",
   "name": "python3"
  },
  "language_info": {
   "codemirror_mode": {
    "name": "ipython",
    "version": 3
   },
   "file_extension": ".py",
   "mimetype": "text/x-python",
   "name": "python",
   "nbconvert_exporter": "python",
   "pygments_lexer": "ipython3",
   "version": "3.6.9"
  }
 },
 "nbformat": 4,
 "nbformat_minor": 4
}
